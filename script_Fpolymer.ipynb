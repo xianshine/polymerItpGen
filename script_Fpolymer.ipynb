{
 "cells": [
  {
   "cell_type": "code",
   "execution_count": null,
   "id": "2ef49cf3",
   "metadata": {},
   "outputs": [],
   "source": [
    "import numpy as np\n",
    "import random\n",
    "import mbuild as mb\n",
    "from mbuild.lib.recipes.polymer import Polymer\n",
    "from mbuild.coordinate_transform import force_overlap\n",
    "from mbuild.lib.atoms import H\n",
    "from mbuild.port import Port\n",
    "from foyer import Forcefield\n",
    "from openbabel import openbabel as ob"
   ]
  },
  {
   "cell_type": "code",
   "execution_count": null,
   "id": "b0511b28",
   "metadata": {},
   "outputs": [],
   "source": [
    "#Read the monomers that make up the polymer\n",
    "block1_smiles_list = []\n",
    "total_charge_sum = 0.0\n",
    "with open('mol.txt', 'r') as f:\n",
    "    for i, line in enumerate(f, start=1):\n",
    "        if 1 <= i <= 6:\n",
    "            block1_smiles_list.append(line.strip())\n",
    "block2_smiles = 'C'\n",
    "repeat_units_block1 = 50"
   ]
  },
  {
   "cell_type": "code",
   "execution_count": null,
   "id": "35f2e34c",
   "metadata": {},
   "outputs": [],
   "source": [
    "#Convert from top to itp\n",
    "def getItpFromTop(top, itp, molname):\n",
    "    print(\"Processing\", top)\n",
    "    with open(top, \"r\") as f:\n",
    "        lines = [line.rstrip('\\n') for line in f]\n",
    "    nLmoleculetype, nLatoms, nLbonds, nLsystem = -1, -1, -1, -1\n",
    "\n",
    "    for i, line in enumerate(lines):\n",
    "        if \"[ moleculetype ]\" in line:\n",
    "            nLmoleculetype = i\n",
    "        elif \"[ atoms ]\" in line:\n",
    "            nLatoms = i\n",
    "        elif \"[ bonds ]\" in line:\n",
    "            nLbonds = i\n",
    "        elif \"[ system ]\" in line:\n",
    "            nLsystem = i\n",
    "\n",
    "    if -1 in (nLmoleculetype, nLatoms, nLbonds, nLsystem):\n",
    "        raise ValueError(\"One or more required sections missing in the .top file!\")\n",
    "\n",
    "    print(f\"Located sections: moleculetype={nLmoleculetype}, atoms={nLatoms}, bonds={nLbonds}, system={nLsystem}\")\n",
    "\n",
    "    lines[nLmoleculetype + 2] = f\"{molname}          3\"\n",
    "\n",
    "    with open(itp, \"w\") as f:\n",
    "        atmidx = 0\n",
    "        for i, line in enumerate(lines[nLmoleculetype:nLsystem]):\n",
    "            if nLatoms < i + nLmoleculetype < nLbonds:\n",
    "                if len(line.strip()) > 0 and not line.startswith(\";\"):\n",
    "                    dat = line.split()\n",
    "                    if dat[3] == \"RES\":\n",
    "                        dat[3] = molname\n",
    "                    line = \" \".join(dat[:8]) \n",
    "                    atmidx += 1\n",
    "            f.write(line + '\\n')\n",
    "\n",
    "    print(\"ITP file generation complete.\")\n"
   ]
  },
  {
   "cell_type": "code",
   "execution_count": null,
   "id": "1142f87d",
   "metadata": {},
   "outputs": [],
   "source": [
    "molname = \"mol{}\".format(i)\n",
    "for i, block1_smiles in enumerate(block1_smiles_list, start=1):\n",
    "    # Generate polymer_smiles by repeating block1_smiles and end Group\n",
    "    polymer_smiles = block1_smiles * repeat_units_block1 + block2_smiles\n",
    "    mol = mb.load(polymer_smiles, smiles=True, backend='pybel')\n",
    "\n",
    "    ff = Forcefield(forcefield_files='./oplsaaXian.xml')\n",
    "    obConversion = ob.OBConversion()\n",
    "    mol_ob = ob.OBMol()\n",
    "    ob_method = \"eem\"\n",
    "    ob_charge_model = ob.OBChargeModel.FindType(ob_method)\n",
    "    mol.save(f'./mol{i}.mol2', overwrite=True)\n",
    "    mol.save(f'./mol{i}.pdb', overwrite=True)\n",
    "\n",
    "    mol_top = ff.apply(mol, verbose=True)\n",
    "    obConversion.ReadFile(mol_ob, f'./mol{i}.pdb')\n",
    "    ob_charge_model.ComputeCharges(mol_ob)\n",
    "    charges = ob_charge_model.GetPartialCharges()\n",
    "\n",
    "    total_charge_sum = 0\n",
    "    for atom, charge in zip(mol_top.atoms, charges):\n",
    "        atom.charge = charge\n",
    "        total_charge_sum += charge\n",
    "    print(f\"Total charge sum for molecule {i}: {total_charge_sum}\")\n",
    "\n",
    "    mol_top.save(f'./mol{i}.top', overwrite=True)\n",
    "\n",
    "    #Generate .itp files for each polymer\n",
    "    molname = f\"mol{i}\"\n",
    "    getItpFromTop(f'./mol{i}.top', f'./mol{i}.itp', molname)"
   ]
  }
 ],
 "metadata": {
  "kernelspec": {
   "display_name": "Python 3 (ipykernel)",
   "language": "python",
   "name": "python3"
  },
  "language_info": {
   "codemirror_mode": {
    "name": "ipython",
    "version": 3
   },
   "file_extension": ".py",
   "mimetype": "text/x-python",
   "name": "python",
   "nbconvert_exporter": "python",
   "pygments_lexer": "ipython3",
   "version": "3.9.13"
  }
 },
 "nbformat": 4,
 "nbformat_minor": 5
}
