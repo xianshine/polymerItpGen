{
 "cells": [
  {
   "cell_type": "code",
   "execution_count": null,
   "id": "2ef49cf3",
   "metadata": {},
   "outputs": [],
   "source": [
    "# The code for generating the topology file of polymers is created by Xueying Yuan and Xian Kong from School of Emergent Soft Matter, South China University of Technology, China\n",
    "# E-mail: xiankong@icloud.com and xueyingyuan628@gmail.com\n",
    "# The information contained in this file is provided for reference purposes only and does not constitute any advice or guarantee. The author does not assume responsibility for the accuracy of the referenced information, and readers are advised to verify it independently. \n"
   ]
  },
  {
   "cell_type": "code",
   "execution_count": null,
   "id": "b0511b28",
   "metadata": {},
   "outputs": [],
   "source": [
    "import numpy as np\n",
    "import random\n",
    "import mbuild as mb\n",
    "from mbuild.lib.recipes.polymer import Polymer\n",
    "from mbuild.coordinate_transform import force_overlap\n",
    "from mbuild.lib.atoms import H\n",
    "from mbuild.port import Port\n",
    "from foyer import Forcefield\n",
    "from openbabel import openbabel as ob"
   ]
  },
  {
   "cell_type": "code",
   "execution_count": null,
   "id": "35f2e34c",
   "metadata": {},
   "outputs": [],
   "source": [
    "monomers = 'CCO'  # Example SMILES for a monomer unit\n",
    "block2_smiles = 'C'  # SMILES for the end group\n",
    "repeat_units = 50  # Number of times the monomer unit is repeated"
   ]
  },
  {
   "cell_type": "code",
   "execution_count": null,
   "id": "e29416a5",
   "metadata": {},
   "outputs": [],
   "source": [
    "# Generate the .itp file from the .top file\n",
    "def getItpFromTop(top, itp, molname):\n",
    "    print(\"Processing\", top)\n",
    "    with open(top, \"r\") as f:\n",
    "        lines = [line.rstrip('\\n') for line in f]\n",
    "    nLmoleculetype, nLatoms, nLbonds, nLsystem = -1, -1, -1, -1\n",
    "\n",
    "    for i, line in enumerate(lines):\n",
    "        if \"[ moleculetype ]\" in line:\n",
    "            nLmoleculetype = i\n",
    "        elif \"[ atoms ]\" in line:\n",
    "            nLatoms = i\n",
    "        elif \"[ bonds ]\" in line:\n",
    "            nLbonds = i\n",
    "        elif \"[ system ]\" in line:\n",
    "            nLsystem = i\n",
    "    # Check that all required sections are found\n",
    "    if -1 in (nLmoleculetype, nLatoms, nLbonds, nLsystem):\n",
    "        raise ValueError(\"One or more required sections missing in the .top file!\")\n",
    "\n",
    "    print(f\"Located sections: moleculetype={nLmoleculetype}, atoms={nLatoms}, bonds={nLbonds}, system={nLsystem}\")\n",
    "\n",
    "    lines[nLmoleculetype + 2] = f\"{molname}          3\"\n",
    "    # Write the modified content into the new .itp file\n",
    "    with open(itp, \"w\") as f:\n",
    "        atmidx = 0\n",
    "        for i, line in enumerate(lines[nLmoleculetype:nLsystem]):\n",
    "            if nLatoms < i + nLmoleculetype < nLbonds:\n",
    "                if len(line.strip()) > 0 and not line.startswith(\";\"):\n",
    "                    dat = line.split()\n",
    "                    if dat[3] == \"RES\":\n",
    "                        dat[3] = molname\n",
    "                    line = \" \".join(dat[:8]) \n",
    "                    atmidx += 1\n",
    "            f.write(line + '\\n')\n",
    "\n",
    "    print(\"ITP file generation complete.\")"
   ]
  },
  {
   "cell_type": "code",
   "execution_count": null,
   "id": "1142f87d",
   "metadata": {},
   "outputs": [],
   "source": [
    "# Construct the polymer SMILES string by repeating the monomer and adding the end group\n",
    "polymer_smiles = monomers * repeat_units + block2_smiles\n",
    "mol = mb.load(polymer_smiles, smiles=True, backend='pybel')\n"
   ]
  },
  {
   "cell_type": "code",
   "execution_count": null,
   "id": "0dd3fd20",
   "metadata": {},
   "outputs": [],
   "source": [
    "# Load the oplsaa force field\n",
    "ff = Forcefield(forcefield_files='./oplsaaXian.xml')\n",
    "obConversion = ob.OBConversion()\n",
    "mol_ob = ob.OBMol()\n",
    "ob_method = \"eem\"  #Set the charge calculation method to EEM\n",
    "ob_charge_model = ob.OBChargeModel.FindType(ob_method)\n",
    "mol.save('./mol.mol2', overwrite=True)\n",
    "mol.save('./mol.pdb', overwrite=True)\n",
    "mol_top = ff.apply(mol, verbose=True)"
   ]
  },
  {
   "cell_type": "code",
   "execution_count": null,
   "id": "6b40770f",
   "metadata": {},
   "outputs": [],
   "source": [
    "# Load the PDB file into Open Babel and compute partial charges\n",
    "obConversion.ReadFile(mol_ob, './mol.pdb')\n",
    "ob_charge_model.ComputeCharges(mol_ob)\n",
    "charges = ob_charge_model.GetPartialCharges()"
   ]
  },
  {
   "cell_type": "code",
   "execution_count": null,
   "id": "95cdbe22",
   "metadata": {},
   "outputs": [],
   "source": [
    "# Assign partial charges to the topology and calculate total charge\n",
    "total_charge_sum = 0\n",
    "for atom, charge in zip(mol_top.atoms, charges):\n",
    "    atom.charge = charge\n",
    "    total_charge_sum += charge\n",
    "print(f\"Total charge sum: {total_charge_sum}\")"
   ]
  },
  {
   "cell_type": "code",
   "execution_count": null,
   "id": "9ca46cda",
   "metadata": {},
   "outputs": [],
   "source": [
    "# Save the topology file\n",
    "mol_top.save('./mol.top', overwrite=True)\n",
    "molname = \"mol\"\n",
    "getItpFromTop('./mol.top', './mol.itp', molname)"
   ]
  },
  {
   "cell_type": "code",
   "execution_count": null,
   "id": "8ac22e5f",
   "metadata": {},
   "outputs": [],
   "source": []
  },
  {
   "cell_type": "code",
   "execution_count": null,
   "id": "aa0d5dbd",
   "metadata": {},
   "outputs": [],
   "source": []
  },
  {
   "cell_type": "code",
   "execution_count": null,
   "id": "b2857ab9",
   "metadata": {},
   "outputs": [],
   "source": []
  }
 ],
 "metadata": {
  "kernelspec": {
   "display_name": "Python 3 (ipykernel)",
   "language": "python",
   "name": "python3"
  },
  "language_info": {
   "codemirror_mode": {
    "name": "ipython",
    "version": 3
   },
   "file_extension": ".py",
   "mimetype": "text/x-python",
   "name": "python",
   "nbconvert_exporter": "python",
   "pygments_lexer": "ipython3",
   "version": "3.9.13"
  }
 },
 "nbformat": 4,
 "nbformat_minor": 5
}
